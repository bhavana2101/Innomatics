{
 "cells": [
  {
   "cell_type": "code",
   "execution_count": 1,
   "id": "43a0b059",
   "metadata": {},
   "outputs": [],
   "source": [
    "#Importing libraries\n",
    "import numpy as np\n",
    "import pandas as pd"
   ]
  },
  {
   "cell_type": "code",
   "execution_count": 3,
   "id": "a3425510",
   "metadata": {},
   "outputs": [],
   "source": [
    "#Loading csv files into datasets\n",
    "movies_ds = pd.read_csv(\"C:\\\\Users\\\\ASUS\\\\Downloads\\\\movies.csv\")\n",
    "ratings_ds = pd.read_csv(\"C:\\\\Users\\\\ASUS\\\\Downloads\\\\ratings.csv\")\n",
    "tags_ds = pd.read_csv(\"C:\\\\Users\\\\ASUS\\\\Downloads\\\\tags.csv\")\n",
    "links_ds = pd.read_csv(\"C:\\\\Users\\\\ASUS\\\\Downloads\\\\links.csv\")"
   ]
  },
  {
   "cell_type": "code",
   "execution_count": 4,
   "id": "e38a2186",
   "metadata": {},
   "outputs": [],
   "source": [
    "# 1) The number of csv files available in the dataset are - 4"
   ]
  },
  {
   "cell_type": "code",
   "execution_count": 5,
   "id": "27acacca",
   "metadata": {},
   "outputs": [
    {
     "data": {
      "text/plain": [
       "(9742, 3)"
      ]
     },
     "execution_count": 5,
     "metadata": {},
     "output_type": "execute_result"
    }
   ],
   "source": [
    "#Finding shape of movies dataset\n",
    "movies_ds.shape"
   ]
  },
  {
   "cell_type": "code",
   "execution_count": 6,
   "id": "c635ecd2",
   "metadata": {},
   "outputs": [],
   "source": [
    "# 2) The shape of movies.csv is (9742,3)"
   ]
  },
  {
   "cell_type": "code",
   "execution_count": 7,
   "id": "91ce32a1",
   "metadata": {},
   "outputs": [
    {
     "data": {
      "text/plain": [
       "(100836, 4)"
      ]
     },
     "execution_count": 7,
     "metadata": {},
     "output_type": "execute_result"
    }
   ],
   "source": [
    "#Finding shape of ratings dataset\n",
    "ratings_ds.shape"
   ]
  },
  {
   "cell_type": "code",
   "execution_count": 8,
   "id": "69ad12eb",
   "metadata": {},
   "outputs": [],
   "source": [
    "# 3) The shape of movies.csv is (100836, 4)"
   ]
  },
  {
   "cell_type": "code",
   "execution_count": 9,
   "id": "bc91375a",
   "metadata": {},
   "outputs": [],
   "source": [
    "#Finding number of unique user ids in ratings dataset\n",
    "count = ratings_ds['userId'].nunique()"
   ]
  },
  {
   "cell_type": "code",
   "execution_count": 10,
   "id": "57a00bca",
   "metadata": {},
   "outputs": [
    {
     "name": "stdout",
     "output_type": "stream",
     "text": [
      "610\n"
     ]
    }
   ],
   "source": [
    "print(count)"
   ]
  },
  {
   "cell_type": "code",
   "execution_count": null,
   "id": "4c2e81b5",
   "metadata": {},
   "outputs": [],
   "source": [
    "# 4) The number of unique user ids in rating dataset - 610"
   ]
  },
  {
   "cell_type": "code",
   "execution_count": 21,
   "id": "49810212",
   "metadata": {},
   "outputs": [
    {
     "name": "stdout",
     "output_type": "stream",
     "text": [
      "The movie that received the maximum number of user ratings is: Forrest Gump (1994)\n"
     ]
    }
   ],
   "source": [
    "# 5) The movie with maximum number of user ratings\n",
    "ratings_count = ratings_ds['movieId'].value_counts()\n",
    "max_ratings_movie_id = ratings_count.idxmax()\n",
    "max_ratings_movie_title = movies_ds.loc[movies_ds['movieId'] == max_ratings_movie_id, 'title'].values[0]\n",
    "print(f\"The movie that received the maximum number of user ratings is: {max_ratings_movie_title}\")"
   ]
  },
  {
   "cell_type": "code",
   "execution_count": 22,
   "id": "ceef122b",
   "metadata": {},
   "outputs": [
    {
     "name": "stdout",
     "output_type": "stream",
     "text": [
      "Tags for 'Matrix, The (1999)': ['martial arts' 'sci-fi' 'alternate universe' 'philosophy'\n",
      " 'post apocalyptic']\n"
     ]
    }
   ],
   "source": [
    "# 6) Tags submitted by users to \"Matrix, The (1999)\"\n",
    "matrix_movie_id = movies_ds.loc[movies_ds['title'] == 'Matrix, The (1999)', 'movieId'].values[0]\n",
    "matrix_tags = tags_ds.loc[tags_ds['movieId'] == matrix_movie_id, 'tag']\n",
    "unique_matrix_tags = matrix_tags.unique()\n",
    "print(f\"Tags for 'Matrix, The (1999)': {unique_matrix_tags}\")"
   ]
  },
  {
   "cell_type": "code",
   "execution_count": 12,
   "id": "f67712ed",
   "metadata": {},
   "outputs": [],
   "source": [
    "Terminator_2_Judgment_Day_1991_Id = 589\n",
    "ratings = ratings_ds[ratings_ds['movieId']==Terminator_2_Judgment_Day_1991_Id] \n",
    "avg_rating = ratings['rating'].mean()"
   ]
  },
  {
   "cell_type": "code",
   "execution_count": 33,
   "id": "ec6f2e1d",
   "metadata": {},
   "outputs": [
    {
     "name": "stdout",
     "output_type": "stream",
     "text": [
      "The average user rating for 'Terminator 2: Judgment Day (1991) is 3.97\n"
     ]
    }
   ],
   "source": [
    "print(f\"The average user rating for 'Terminator 2: Judgment Day (1991) is {avg_rating:.2f}\")"
   ]
  },
  {
   "cell_type": "code",
   "execution_count": 23,
   "id": "473d4ee9",
   "metadata": {},
   "outputs": [],
   "source": [
    "# 7) The average rating of \"Terminator 2: Judgment Day (1991)\" - 3.97098214"
   ]
  },
  {
   "cell_type": "code",
   "execution_count": 25,
   "id": "172e3edc",
   "metadata": {},
   "outputs": [
    {
     "data": {
      "image/png": "[encoded data removed]",
      "text/plain": [
       "<Figure size 800x600 with 1 Axes>"
      ]
     },
     "metadata": {},
     "output_type": "display_data"
    }
   ],
   "source": [
    "# 8) data distribution of user ratings for \"Fight Club (1999)\"\n",
    "import matplotlib.pyplot as plt\n",
    "fight_club_movie_id = movies_ds.loc[movies_ds['title'] == 'Fight Club (1999)', 'movieId'].values[0]\n",
    "fight_club_ratings = ratings_ds.loc[ratings_ds['movieId'] == fight_club_movie_id, 'rating']\n",
    "plt.figure(figsize=(8, 6))\n",
    "plt.hist(fight_club_ratings, bins=10, edgecolor='black')\n",
    "plt.title('User Ratings Distribution for Fight Club (1999)')\n",
    "plt.xlabel('Rating')\n",
    "plt.ylabel('Frequency')\n",
    "plt.grid(True)\n",
    "plt.show()"
   ]
  },
  {
   "cell_type": "code",
   "execution_count": 26,
   "id": "d5651acb",
   "metadata": {},
   "outputs": [],
   "source": [
    "# 8) data distribution of user ratings for \"Fight Club (1999)\" - Right Skewed"
   ]
  },
  {
   "cell_type": "code",
   "execution_count": 30,
   "id": "e99afe0d",
   "metadata": {},
   "outputs": [],
   "source": [
    "# Mandatory Operations\n",
    "# 1) Group the user ratings based on movieId and apply aggregation operations like count and mean on ratings. \n",
    "grouped_ratings = ratings_ds.groupby('movieId')['rating'].agg(['count', 'mean']).reset_index()\n",
    "# 2. Apply inner join on dataframe created from movies.csv and the grouped df from step 1.\n",
    "merged_data = pd.merge(grouped_ratings, movies_ds, on='movieId', how='inner')\n",
    "# 3. Filter only those movies which have more than 50 user ratings (i.e. > 50).\n",
    "filtered_movies = merged_data[merged_data['count'] > 50]"
   ]
  },
  {
   "cell_type": "code",
   "execution_count": 31,
   "id": "c293c7dc",
   "metadata": {},
   "outputs": [
    {
     "name": "stdout",
     "output_type": "stream",
     "text": [
      "      movieId  count      mean                             title  \\\n",
      "0           1    215  3.920930                  Toy Story (1995)   \n",
      "1           2    110  3.431818                    Jumanji (1995)   \n",
      "2           3     52  3.259615           Grumpier Old Men (1995)   \n",
      "5           6    102  3.946078                       Heat (1995)   \n",
      "6           7     54  3.185185                    Sabrina (1995)   \n",
      "...       ...    ...       ...                               ...   \n",
      "8287   106782     54  3.916667   Wolf of Wall Street, The (2013)   \n",
      "8354   109374     52  3.778846  Grand Budapest Hotel, The (2014)   \n",
      "8358   109487     73  3.993151               Interstellar (2014)   \n",
      "8457   112852     59  4.050847    Guardians of the Galaxy (2014)   \n",
      "8673   122904     54  3.833333                   Deadpool (2016)   \n",
      "\n",
      "                                           genres  \n",
      "0     Adventure|Animation|Children|Comedy|Fantasy  \n",
      "1                      Adventure|Children|Fantasy  \n",
      "2                                  Comedy|Romance  \n",
      "5                           Action|Crime|Thriller  \n",
      "6                                  Comedy|Romance  \n",
      "...                                           ...  \n",
      "8287                           Comedy|Crime|Drama  \n",
      "8354                                 Comedy|Drama  \n",
      "8358                                  Sci-Fi|IMAX  \n",
      "8457                      Action|Adventure|Sci-Fi  \n",
      "8673               Action|Adventure|Comedy|Sci-Fi  \n",
      "\n",
      "[436 rows x 5 columns]\n"
     ]
    }
   ],
   "source": [
    "print(filtered_movies)"
   ]
  },
  {
   "cell_type": "code",
   "execution_count": 32,
   "id": "c2e6485b",
   "metadata": {},
   "outputs": [
    {
     "name": "stdout",
     "output_type": "stream",
     "text": [
      "The most popular movie(s) based on average user ratings is/are:\n",
      "Shawshank Redemption, The (1994)\n"
     ]
    }
   ],
   "source": [
    "# The most popular movie based on  average user ratings\n",
    "if not filtered_movies.empty:\n",
    "    highest_rated_movies = filtered_movies[filtered_movies['mean'] == filtered_movies['mean'].max()]['title']\n",
    "    print(f\"The most popular movie(s) based on average user ratings is/are:\")\n",
    "    for movie in highest_rated_movies:\n",
    "        print(movie)\n",
    "else:\n",
    "    print(\"No movies in the dataset have more than 50 user ratings.\")"
   ]
  },
  {
   "cell_type": "code",
   "execution_count": 34,
   "id": "09824a44",
   "metadata": {},
   "outputs": [
    {
     "name": "stdout",
     "output_type": "stream",
     "text": [
      "The top 5 popular movies based on number of user ratings:\n",
      "Forrest Gump (1994)\n",
      "Shawshank Redemption, The (1994)\n",
      "Pulp Fiction (1994)\n",
      "Silence of the Lambs, The (1991)\n",
      "Matrix, The (1999)\n"
     ]
    }
   ],
   "source": [
    "# top 5 popular movies based on number of user ratings.\n",
    "sorted_movies = filtered_movies.sort_values(by='count', ascending=False)\n",
    "top_5_popular_movies = sorted_movies.head(5)\n",
    "print(\"The top 5 popular movies based on number of user ratings:\")\n",
    "for movie_title in top_5_popular_movies['title']:\n",
    "    print(movie_title)"
   ]
  },
  {
   "cell_type": "code",
   "execution_count": 35,
   "id": "4d1afe7a",
   "metadata": {},
   "outputs": [
    {
     "name": "stdout",
     "output_type": "stream",
     "text": [
      "The third most popular Sci-Fi movie based on number of user ratings is: Jurassic Park (1993)\n"
     ]
    }
   ],
   "source": [
    "# \"third most popular\" movie based on the number of user ratings\n",
    "# Filter for Sci-Fi movies\n",
    "sci_fi_movies = filtered_movies[filtered_movies['genres'].str.contains('Sci-Fi')]\n",
    "\n",
    "# Sort Sci-Fi movies by rating count in descending order\n",
    "sorted_sci_fi = sci_fi_movies.sort_values(by='count', ascending=False)\n",
    "\n",
    "# Identify the third most popular Sci-Fi movie based on rating count\n",
    "if len(sorted_sci_fi) >= 3:\n",
    "    third_most_popular_sci_fi = sorted_sci_fi.iloc[2]  # Third entry in zero-based index\n",
    "    print(f\"The third most popular Sci-Fi movie based on number of user ratings is: {third_most_popular_sci_fi['title']}\")\n",
    "else:\n",
    "    print(\"There are not enough Sci-Fi movies with more than 50 ratings to determine the third most popular.\")"
   ]
  },
  {
   "cell_type": "code",
   "execution_count": null,
   "id": "b90240bf",
   "metadata": {},
   "outputs": [],
   "source": []
  }
 ],
 "metadata": {
  "kernelspec": {
   "display_name": "Python 3 (ipykernel)",
   "language": "python",
   "name": "python3"
  },
  "language_info": {
   "codemirror_mode": {
    "name": "ipython",
    "version": 3
   },
   "file_extension": ".py",
   "mimetype": "text/x-python",
   "name": "python",
   "nbconvert_exporter": "python",
   "pygments_lexer": "ipython3",
   "version": "3.10.9"
  }
 },
 "nbformat": 4,
 "nbformat_minor": 5
}
